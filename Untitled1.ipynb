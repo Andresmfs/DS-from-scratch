{
 "cells": [
  {
   "cell_type": "code",
   "execution_count": 1,
   "id": "06dc9277-d325-4882-bbdd-09818458845c",
   "metadata": {},
   "outputs": [
    {
     "name": "stdout",
     "output_type": "stream",
     "text": [
      "Object `yield` not found.\n"
     ]
    }
   ],
   "source": [
    "yield?"
   ]
  },
  {
   "cell_type": "code",
   "execution_count": 2,
   "id": "f2f6db60-cc17-410a-8d5e-365f9cdfee87",
   "metadata": {},
   "outputs": [],
   "source": [
    "def generate_range(n):\n",
    "    i=0\n",
    "    while i<n:\n",
    "        yield i\n",
    "        i +=1\n",
    "        "
   ]
  },
  {
   "cell_type": "code",
   "execution_count": 3,
   "id": "00f43878-4088-435e-b602-6df139ab8236",
   "metadata": {},
   "outputs": [
    {
     "name": "stdout",
     "output_type": "stream",
     "text": [
      "i: 0\n",
      "i: 1\n",
      "i: 2\n",
      "i: 3\n",
      "i: 4\n",
      "i: 5\n",
      "i: 6\n",
      "i: 7\n",
      "i: 8\n",
      "i: 9\n"
     ]
    }
   ],
   "source": [
    "for i in generate_range(10):\n",
    "    print(f\"i: {i}\")"
   ]
  },
  {
   "cell_type": "code",
   "execution_count": 4,
   "id": "6d320959-cfc5-4a9f-a07d-87aafd46d960",
   "metadata": {},
   "outputs": [
    {
     "data": {
      "text/plain": [
       "\u001b[1;31mDocstring:\u001b[0m\n",
       "min(iterable, *[, default=obj, key=func]) -> value\n",
       "min(arg1, arg2, *args, *[, key=func]) -> value\n",
       "\n",
       "With a single iterable argument, return its smallest item. The\n",
       "default keyword-only argument specifies an object to return if\n",
       "the provided iterable is empty.\n",
       "With two or more arguments, return the smallest argument.\n",
       "\u001b[1;31mType:\u001b[0m      builtin_function_or_method"
      ]
     },
     "metadata": {},
     "output_type": "display_data"
    }
   ],
   "source": [
    "min?"
   ]
  },
  {
   "cell_type": "code",
   "execution_count": 5,
   "id": "65ddb9fd-fd2b-4236-b41c-d6cc0377b430",
   "metadata": {},
   "outputs": [
    {
     "data": {
      "text/plain": [
       "\u001b[1;31mInit signature:\u001b[0m \u001b[0mzip\u001b[0m\u001b[1;33m(\u001b[0m\u001b[0mself\u001b[0m\u001b[1;33m,\u001b[0m \u001b[1;33m/\u001b[0m\u001b[1;33m,\u001b[0m \u001b[1;33m*\u001b[0m\u001b[0margs\u001b[0m\u001b[1;33m,\u001b[0m \u001b[1;33m**\u001b[0m\u001b[0mkwargs\u001b[0m\u001b[1;33m)\u001b[0m\u001b[1;33m\u001b[0m\u001b[1;33m\u001b[0m\u001b[0m\n",
       "\u001b[1;31mDocstring:\u001b[0m     \n",
       "zip(*iterables, strict=False) --> Yield tuples until an input is exhausted.\n",
       "\n",
       "   >>> list(zip('abcdefg', range(3), range(4)))\n",
       "   [('a', 0, 0), ('b', 1, 1), ('c', 2, 2)]\n",
       "\n",
       "The zip object yields n-length tuples, where n is the number of iterables\n",
       "passed as positional arguments to zip().  The i-th element in every tuple\n",
       "comes from the i-th iterable argument to zip().  This continues until the\n",
       "shortest argument is exhausted.\n",
       "\n",
       "If strict is true and one of the arguments is exhausted before the others,\n",
       "raise a ValueError.\n",
       "\u001b[1;31mType:\u001b[0m           type\n",
       "\u001b[1;31mSubclasses:\u001b[0m     "
      ]
     },
     "metadata": {},
     "output_type": "display_data"
    }
   ],
   "source": [
    "zip?"
   ]
  },
  {
   "cell_type": "code",
   "execution_count": 1,
   "id": "6795aafc-06b9-46d6-a1f4-463b74ef524b",
   "metadata": {},
   "outputs": [
    {
     "data": {
      "text/plain": [
       "2"
      ]
     },
     "execution_count": 1,
     "metadata": {},
     "output_type": "execute_result"
    }
   ],
   "source": [
    "5 // 2"
   ]
  },
  {
   "cell_type": "code",
   "execution_count": 2,
   "id": "13cabcd3-acd2-43a8-a5ed-fd6c5baa674f",
   "metadata": {},
   "outputs": [
    {
     "data": {
      "text/plain": [
       "3"
      ]
     },
     "execution_count": 2,
     "metadata": {},
     "output_type": "execute_result"
    }
   ],
   "source": [
    "int(3.2)"
   ]
  },
  {
   "cell_type": "code",
   "execution_count": 3,
   "id": "330c9812-cea6-4108-b576-747a93427224",
   "metadata": {},
   "outputs": [
    {
     "data": {
      "text/plain": [
       "3"
      ]
     },
     "execution_count": 3,
     "metadata": {},
     "output_type": "execute_result"
    }
   ],
   "source": [
    "int(3.7)"
   ]
  },
  {
   "cell_type": "code",
   "execution_count": 4,
   "id": "ba55fee2-dd4f-492b-b99e-357b9e2771ce",
   "metadata": {},
   "outputs": [
    {
     "data": {
      "text/plain": [
       "34.0"
      ]
     },
     "execution_count": 4,
     "metadata": {},
     "output_type": "execute_result"
    }
   ],
   "source": [
    "100*0.34"
   ]
  },
  {
   "cell_type": "code",
   "execution_count": 5,
   "id": "13f9a4c9-2061-45eb-9211-170751a13f1d",
   "metadata": {},
   "outputs": [
    {
     "data": {
      "text/plain": [
       "7.704000000000001"
      ]
     },
     "execution_count": 5,
     "metadata": {},
     "output_type": "execute_result"
    }
   ],
   "source": [
    "24*0.321"
   ]
  },
  {
   "cell_type": "code",
   "execution_count": 6,
   "id": "7c73d3dc-dc98-47fe-9ff9-c577003c3aee",
   "metadata": {},
   "outputs": [
    {
     "data": {
      "text/plain": [
       "100"
      ]
     },
     "execution_count": 6,
     "metadata": {},
     "output_type": "execute_result"
    }
   ],
   "source": [
    "100//1"
   ]
  },
  {
   "cell_type": "code",
   "execution_count": 7,
   "id": "8ee174e0-df04-4e20-ab8d-19bd8ebe906c",
   "metadata": {},
   "outputs": [
    {
     "data": {
      "text/plain": [
       "10"
      ]
     },
     "execution_count": 7,
     "metadata": {},
     "output_type": "execute_result"
    }
   ],
   "source": [
    "num = [1,  2, 3, 4, 5, 6, 7, 8, 9, 10]\n",
    "len(num)"
   ]
  },
  {
   "cell_type": "code",
   "execution_count": 8,
   "id": "b1fc65b5-8f94-4b36-a10f-b1f0c918bba8",
   "metadata": {},
   "outputs": [
    {
     "data": {
      "text/plain": [
       "10"
      ]
     },
     "execution_count": 8,
     "metadata": {},
     "output_type": "execute_result"
    }
   ],
   "source": [
    "num[9]"
   ]
  },
  {
   "cell_type": "code",
   "execution_count": 10,
   "id": "27a3e01f-c4e5-4dd2-87e1-65834ac10aa9",
   "metadata": {},
   "outputs": [
    {
     "data": {
      "text/plain": [
       "9"
      ]
     },
     "execution_count": 10,
     "metadata": {},
     "output_type": "execute_result"
    }
   ],
   "source": [
    "x = int(len(num)*0.89)\n",
    "\n",
    "num[x]"
   ]
  },
  {
   "cell_type": "code",
   "execution_count": 11,
   "id": "14686865-a211-4a20-80f1-a18dcf9c48fa",
   "metadata": {},
   "outputs": [
    {
     "data": {
      "text/plain": [
       "\u001b[1;31mSignature:\u001b[0m \u001b[0mabs\u001b[0m\u001b[1;33m(\u001b[0m\u001b[0mx\u001b[0m\u001b[1;33m,\u001b[0m \u001b[1;33m/\u001b[0m\u001b[1;33m)\u001b[0m\u001b[1;33m\u001b[0m\u001b[1;33m\u001b[0m\u001b[0m\n",
       "\u001b[1;31mDocstring:\u001b[0m Return the absolute value of the argument.\n",
       "\u001b[1;31mType:\u001b[0m      builtin_function_or_method"
      ]
     },
     "metadata": {},
     "output_type": "display_data"
    }
   ],
   "source": [
    "abs?"
   ]
  },
  {
   "cell_type": "code",
   "execution_count": 1,
   "id": "d6d16887-0def-4860-8ea2-a4adc526d2db",
   "metadata": {},
   "outputs": [
    {
     "data": {
      "text/plain": [
       "\u001b[1;31mInit signature:\u001b[0m\n",
       "\u001b[0menum\u001b[0m\u001b[1;33m.\u001b[0m\u001b[0mEnum\u001b[0m\u001b[1;33m(\u001b[0m\u001b[1;33m\n",
       "\u001b[0m    \u001b[0mvalue\u001b[0m\u001b[1;33m,\u001b[0m\u001b[1;33m\n",
       "\u001b[0m    \u001b[0mnames\u001b[0m\u001b[1;33m=\u001b[0m\u001b[1;32mNone\u001b[0m\u001b[1;33m,\u001b[0m\u001b[1;33m\n",
       "\u001b[0m    \u001b[1;33m*\u001b[0m\u001b[1;33m,\u001b[0m\u001b[1;33m\n",
       "\u001b[0m    \u001b[0mmodule\u001b[0m\u001b[1;33m=\u001b[0m\u001b[1;32mNone\u001b[0m\u001b[1;33m,\u001b[0m\u001b[1;33m\n",
       "\u001b[0m    \u001b[0mqualname\u001b[0m\u001b[1;33m=\u001b[0m\u001b[1;32mNone\u001b[0m\u001b[1;33m,\u001b[0m\u001b[1;33m\n",
       "\u001b[0m    \u001b[0mtype\u001b[0m\u001b[1;33m=\u001b[0m\u001b[1;32mNone\u001b[0m\u001b[1;33m,\u001b[0m\u001b[1;33m\n",
       "\u001b[0m    \u001b[0mstart\u001b[0m\u001b[1;33m=\u001b[0m\u001b[1;36m1\u001b[0m\u001b[1;33m,\u001b[0m\u001b[1;33m\n",
       "\u001b[0m    \u001b[0mboundary\u001b[0m\u001b[1;33m=\u001b[0m\u001b[1;32mNone\u001b[0m\u001b[1;33m,\u001b[0m\u001b[1;33m\n",
       "\u001b[0m\u001b[1;33m)\u001b[0m\u001b[1;33m\u001b[0m\u001b[1;33m\u001b[0m\u001b[0m\n",
       "\u001b[1;31mDocstring:\u001b[0m     \n",
       "Create a collection of name/value pairs.\n",
       "\n",
       "Example enumeration:\n",
       "\n",
       ">>> class Color(Enum):\n",
       "...     RED = 1\n",
       "...     BLUE = 2\n",
       "...     GREEN = 3\n",
       "\n",
       "Access them by:\n",
       "\n",
       "- attribute access::\n",
       "\n",
       ">>> Color.RED\n",
       "<Color.RED: 1>\n",
       "\n",
       "- value lookup:\n",
       "\n",
       ">>> Color(1)\n",
       "<Color.RED: 1>\n",
       "\n",
       "- name lookup:\n",
       "\n",
       ">>> Color['RED']\n",
       "<Color.RED: 1>\n",
       "\n",
       "Enumerations can be iterated over, and know how many members they have:\n",
       "\n",
       ">>> len(Color)\n",
       "3\n",
       "\n",
       ">>> list(Color)\n",
       "[<Color.RED: 1>, <Color.BLUE: 2>, <Color.GREEN: 3>]\n",
       "\n",
       "Methods can be added to enumerations, and members can have their own\n",
       "attributes -- see the documentation for details.\n",
       "\u001b[1;31mFile:\u001b[0m           c:\\users\\andre\\anaconda3\\envs\\dsfscratch\\lib\\enum.py\n",
       "\u001b[1;31mType:\u001b[0m           EnumType\n",
       "\u001b[1;31mSubclasses:\u001b[0m     ReprEnum, Flag, _OptType, Purpose, _SendfileMode, SSLProtocolState, AppProtocolState, _BarrierState, _State, _State, ..."
      ]
     },
     "metadata": {},
     "output_type": "display_data"
    }
   ],
   "source": [
    "import enum\n",
    "enum.Enum?"
   ]
  },
  {
   "cell_type": "code",
   "execution_count": 11,
   "id": "7aeb2ad3-35f6-42a9-975c-2197fb43f1a1",
   "metadata": {},
   "outputs": [],
   "source": [
    "x = [i*0.1 for i in range(-10, 20, 1)]"
   ]
  },
  {
   "cell_type": "code",
   "execution_count": 12,
   "id": "cddda180-48da-4f92-a1db-eb806ccb8e98",
   "metadata": {},
   "outputs": [
    {
     "data": {
      "text/plain": [
       "[-1.0,\n",
       " -0.9,\n",
       " -0.8,\n",
       " -0.7000000000000001,\n",
       " -0.6000000000000001,\n",
       " -0.5,\n",
       " -0.4,\n",
       " -0.30000000000000004,\n",
       " -0.2,\n",
       " -0.1,\n",
       " 0.0,\n",
       " 0.1,\n",
       " 0.2,\n",
       " 0.30000000000000004,\n",
       " 0.4,\n",
       " 0.5,\n",
       " 0.6000000000000001,\n",
       " 0.7000000000000001,\n",
       " 0.8,\n",
       " 0.9,\n",
       " 1.0,\n",
       " 1.1,\n",
       " 1.2000000000000002,\n",
       " 1.3,\n",
       " 1.4000000000000001,\n",
       " 1.5,\n",
       " 1.6,\n",
       " 1.7000000000000002,\n",
       " 1.8,\n",
       " 1.9000000000000001]"
      ]
     },
     "execution_count": 12,
     "metadata": {},
     "output_type": "execute_result"
    }
   ],
   "source": [
    "x"
   ]
  },
  {
   "cell_type": "code",
   "execution_count": 1,
   "id": "1940f631-9bb4-436f-ae52-9a5297dd8f56",
   "metadata": {},
   "outputs": [
    {
     "name": "stdout",
     "output_type": "stream",
     "text": [
      "Object `math.erf` not found.\n"
     ]
    }
   ],
   "source": [
    "math.erf?"
   ]
  },
  {
   "cell_type": "code",
   "execution_count": 2,
   "id": "7d3920bb-8ab3-43de-a119-5cba1c1dd982",
   "metadata": {},
   "outputs": [
    {
     "data": {
      "text/plain": [
       "\u001b[1;31mSignature:\u001b[0m \u001b[0mmath\u001b[0m\u001b[1;33m.\u001b[0m\u001b[0merf\u001b[0m\u001b[1;33m(\u001b[0m\u001b[0mx\u001b[0m\u001b[1;33m,\u001b[0m \u001b[1;33m/\u001b[0m\u001b[1;33m)\u001b[0m\u001b[1;33m\u001b[0m\u001b[1;33m\u001b[0m\u001b[0m\n",
       "\u001b[1;31mDocstring:\u001b[0m Error function at x.\n",
       "\u001b[1;31mType:\u001b[0m      builtin_function_or_method"
      ]
     },
     "metadata": {},
     "output_type": "display_data"
    }
   ],
   "source": [
    "import math\n",
    "math.erf?"
   ]
  },
  {
   "cell_type": "code",
   "execution_count": 2,
   "id": "30e66e5c-5353-4eb7-ba3a-6bb5325ff797",
   "metadata": {},
   "outputs": [],
   "source": [
    "from typing import List\n",
    "import random\n",
    "def run_experiment() -> List[bool]:\n",
    "    \"\"\"Lanza una moneda justa 1000 veces, True = cara, False = cruz\"\"\"\n",
    "    return [random.random() < 0.5 for _ in range(1000)]"
   ]
  },
  {
   "cell_type": "code",
   "execution_count": 3,
   "id": "3c633a47-ae48-4568-9831-01fb1ff75351",
   "metadata": {},
   "outputs": [
    {
     "data": {
      "text/plain": [
       "1000"
      ]
     },
     "execution_count": 3,
     "metadata": {},
     "output_type": "execute_result"
    }
   ],
   "source": [
    "len(run_experiment())"
   ]
  },
  {
   "cell_type": "code",
   "execution_count": 4,
   "id": "211142c9-8474-402d-978e-b3750f59ff48",
   "metadata": {},
   "outputs": [
    {
     "data": {
      "text/plain": [
       "range(0, 2)"
      ]
     },
     "execution_count": 4,
     "metadata": {},
     "output_type": "execute_result"
    }
   ],
   "source": [
    "range(2)"
   ]
  },
  {
   "cell_type": "code",
   "execution_count": 5,
   "id": "bed7b0d9-96a7-4a26-95a1-fdbcc2b10aa1",
   "metadata": {},
   "outputs": [],
   "source": [
    "a = range(2)"
   ]
  },
  {
   "cell_type": "code",
   "execution_count": 6,
   "id": "612cbcfe-a402-40f0-b378-1a4d2d09d845",
   "metadata": {},
   "outputs": [
    {
     "data": {
      "text/plain": [
       "range(0, 2)"
      ]
     },
     "execution_count": 6,
     "metadata": {},
     "output_type": "execute_result"
    }
   ],
   "source": [
    "a"
   ]
  },
  {
   "cell_type": "code",
   "execution_count": 7,
   "id": "a5843d40-4cfd-41b6-9fd5-c9d5ea9d6955",
   "metadata": {},
   "outputs": [
    {
     "data": {
      "text/plain": [
       "[0, 1]"
      ]
     },
     "execution_count": 7,
     "metadata": {},
     "output_type": "execute_result"
    }
   ],
   "source": [
    "list(a)"
   ]
  },
  {
   "cell_type": "code",
   "execution_count": 2,
   "id": "684fc84f-7836-45b6-a417-42a68492c4b6",
   "metadata": {},
   "outputs": [
    {
     "data": {
      "text/plain": [
       "\u001b[1;31mSignature:\u001b[0m \u001b[0mrandom\u001b[0m\u001b[1;33m.\u001b[0m\u001b[0muniform\u001b[0m\u001b[1;33m(\u001b[0m\u001b[0ma\u001b[0m\u001b[1;33m,\u001b[0m \u001b[0mb\u001b[0m\u001b[1;33m)\u001b[0m\u001b[1;33m\u001b[0m\u001b[1;33m\u001b[0m\u001b[0m\n",
       "\u001b[1;31mDocstring:\u001b[0m Get a random number in the range [a, b) or [a, b] depending on rounding.\n",
       "\u001b[1;31mFile:\u001b[0m      c:\\users\\andre\\anaconda3\\envs\\dsfscratch\\lib\\random.py\n",
       "\u001b[1;31mType:\u001b[0m      method"
      ]
     },
     "metadata": {},
     "output_type": "display_data"
    }
   ],
   "source": [
    "import random\n",
    "random.uniform?"
   ]
  },
  {
   "cell_type": "code",
   "execution_count": 4,
   "id": "999d5ea0-0280-4622-91da-f9f81a5be645",
   "metadata": {},
   "outputs": [
    {
     "data": {
      "text/plain": [
       "[0, 2, 4, 6, 8]"
      ]
     },
     "execution_count": 4,
     "metadata": {},
     "output_type": "execute_result"
    }
   ],
   "source": [
    "list(range(0, 10, 2))"
   ]
  },
  {
   "cell_type": "code",
   "execution_count": 1,
   "id": "2b79cb3a-8b31-484b-80c6-2cc98a266966",
   "metadata": {},
   "outputs": [
    {
     "name": "stdout",
     "output_type": "stream",
     "text": [
      "Object `plt.ylabels` not found.\n"
     ]
    }
   ],
   "source": [
    "plt.ylabels?"
   ]
  },
  {
   "cell_type": "code",
   "execution_count": 4,
   "id": "e2710966-9baf-41de-9cad-ca7fe1a9f920",
   "metadata": {},
   "outputs": [
    {
     "data": {
      "text/plain": [
       "\u001b[1;31mSignature:\u001b[0m \u001b[0mplt\u001b[0m\u001b[1;33m.\u001b[0m\u001b[0myticks\u001b[0m\u001b[1;33m(\u001b[0m\u001b[0mticks\u001b[0m\u001b[1;33m=\u001b[0m\u001b[1;32mNone\u001b[0m\u001b[1;33m,\u001b[0m \u001b[0mlabels\u001b[0m\u001b[1;33m=\u001b[0m\u001b[1;32mNone\u001b[0m\u001b[1;33m,\u001b[0m \u001b[1;33m*\u001b[0m\u001b[1;33m,\u001b[0m \u001b[0mminor\u001b[0m\u001b[1;33m=\u001b[0m\u001b[1;32mFalse\u001b[0m\u001b[1;33m,\u001b[0m \u001b[1;33m**\u001b[0m\u001b[0mkwargs\u001b[0m\u001b[1;33m)\u001b[0m\u001b[1;33m\u001b[0m\u001b[1;33m\u001b[0m\u001b[0m\n",
       "\u001b[1;31mDocstring:\u001b[0m\n",
       "Get or set the current tick locations and labels of the y-axis.\n",
       "\n",
       "Pass no arguments to return the current values without modifying them.\n",
       "\n",
       "Parameters\n",
       "----------\n",
       "ticks : array-like, optional\n",
       "    The list of ytick locations.  Passing an empty list removes all yticks.\n",
       "labels : array-like, optional\n",
       "    The labels to place at the given *ticks* locations.  This argument can\n",
       "    only be passed if *ticks* is passed as well.\n",
       "minor : bool, default: False\n",
       "    If ``False``, get/set the major ticks/labels; if ``True``, the minor\n",
       "    ticks/labels.\n",
       "**kwargs\n",
       "    `.Text` properties can be used to control the appearance of the labels.\n",
       "\n",
       "Returns\n",
       "-------\n",
       "locs\n",
       "    The list of ytick locations.\n",
       "labels\n",
       "    The list of ylabel `.Text` objects.\n",
       "\n",
       "Notes\n",
       "-----\n",
       "Calling this function with no arguments (e.g. ``yticks()``) is the pyplot\n",
       "equivalent of calling `~.Axes.get_yticks` and `~.Axes.get_yticklabels` on\n",
       "the current axes.\n",
       "Calling this function with arguments is the pyplot equivalent of calling\n",
       "`~.Axes.set_yticks` and `~.Axes.set_yticklabels` on the current axes.\n",
       "\n",
       "Examples\n",
       "--------\n",
       ">>> locs, labels = yticks()  # Get the current locations and labels.\n",
       ">>> yticks(np.arange(0, 1, step=0.2))  # Set label locations.\n",
       ">>> yticks(np.arange(3), ['Tom', 'Dick', 'Sue'])  # Set text labels.\n",
       ">>> yticks([0, 1, 2], ['January', 'February', 'March'],\n",
       "...        rotation=45)  # Set text labels and properties.\n",
       ">>> yticks([])  # Disable yticks.\n",
       "\u001b[1;31mFile:\u001b[0m      c:\\users\\andre\\anaconda3\\envs\\dsfscratch\\lib\\site-packages\\matplotlib\\pyplot.py\n",
       "\u001b[1;31mType:\u001b[0m      function"
      ]
     },
     "metadata": {},
     "output_type": "display_data"
    }
   ],
   "source": [
    "import matplotlib.pyplot as plt\n",
    "plt.yticks?"
   ]
  },
  {
   "cell_type": "code",
   "execution_count": null,
   "id": "c7fa8e1c-4760-42eb-aea5-396243ddb755",
   "metadata": {},
   "outputs": [],
   "source": []
  }
 ],
 "metadata": {
  "kernelspec": {
   "display_name": "Python 3 (ipykernel)",
   "language": "python",
   "name": "python3"
  },
  "language_info": {
   "codemirror_mode": {
    "name": "ipython",
    "version": 3
   },
   "file_extension": ".py",
   "mimetype": "text/x-python",
   "name": "python",
   "nbconvert_exporter": "python",
   "pygments_lexer": "ipython3",
   "version": "3.11.4"
  }
 },
 "nbformat": 4,
 "nbformat_minor": 5
}
